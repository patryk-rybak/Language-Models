{
 "cells": [
  {
   "cell_type": "code",
   "execution_count": 2,
   "id": "578c63ba",
   "metadata": {},
   "outputs": [],
   "source": [
    "import random\n",
    "import torch\n",
    "import itertools\n",
    "import numpy as np\n",
    "\n",
    "from transformers import AutoTokenizer, AutoModel\n",
    "from transformers import AutoTokenizer, AutoModelForCausalLM\n",
    "from torch.nn import functional as F\n",
    "from transformers import logging\n",
    "from tqdm import tqdm\n",
    "from sklearn.linear_model import LogisticRegression\n",
    "\n",
    "logging.set_verbosity_error()\n",
    "\n",
    "model_name_encoder = \"allegro/herbert-base-cased\"\n",
    "device = 'cuda'"
   ]
  },
  {
   "cell_type": "code",
   "execution_count": 3,
   "id": "b5dd702e",
   "metadata": {},
   "outputs": [
    {
     "data": {
      "application/vnd.jupyter.widget-view+json": {
       "model_id": "383e632ff21c48568badf7af050dfcb9",
       "version_major": 2,
       "version_minor": 0
      },
      "text/plain": [
       "tokenizer_config.json:   0%|          | 0.00/229 [00:00<?, ?B/s]"
      ]
     },
     "metadata": {},
     "output_type": "display_data"
    },
    {
     "name": "stderr",
     "output_type": "stream",
     "text": [
      "/home/patryk/myenv/lib/python3.12/site-packages/huggingface_hub/file_download.py:797: FutureWarning: `resume_download` is deprecated and will be removed in version 1.0.0. Downloads always resume when possible. If you want to force a new download, use `force_download=True`.\n",
      "  warnings.warn(\n"
     ]
    },
    {
     "data": {
      "application/vnd.jupyter.widget-view+json": {
       "model_id": "db99058a477d4a3280b2264347153d2d",
       "version_major": 2,
       "version_minor": 0
      },
      "text/plain": [
       "config.json:   0%|          | 0.00/472 [00:00<?, ?B/s]"
      ]
     },
     "metadata": {},
     "output_type": "display_data"
    },
    {
     "data": {
      "application/vnd.jupyter.widget-view+json": {
       "model_id": "0510ac27dd30486da4b88bb048c7fc96",
       "version_major": 2,
       "version_minor": 0
      },
      "text/plain": [
       "vocab.json:   0%|          | 0.00/907k [00:00<?, ?B/s]"
      ]
     },
     "metadata": {},
     "output_type": "display_data"
    },
    {
     "data": {
      "application/vnd.jupyter.widget-view+json": {
       "model_id": "814784a4ee494efd8476a302d3fc8b51",
       "version_major": 2,
       "version_minor": 0
      },
      "text/plain": [
       "merges.txt:   0%|          | 0.00/556k [00:00<?, ?B/s]"
      ]
     },
     "metadata": {},
     "output_type": "display_data"
    },
    {
     "data": {
      "application/vnd.jupyter.widget-view+json": {
       "model_id": "21dcdfb8c0084de996d1f8cf5216c023",
       "version_major": 2,
       "version_minor": 0
      },
      "text/plain": [
       "special_tokens_map.json:   0%|          | 0.00/129 [00:00<?, ?B/s]"
      ]
     },
     "metadata": {},
     "output_type": "display_data"
    },
    {
     "data": {
      "application/vnd.jupyter.widget-view+json": {
       "model_id": "af7871acf02b4187b76e4ceaa9d7bec0",
       "version_major": 2,
       "version_minor": 0
      },
      "text/plain": [
       "pytorch_model.bin:   0%|          | 0.00/654M [00:00<?, ?B/s]"
      ]
     },
     "metadata": {},
     "output_type": "display_data"
    },
    {
     "name": "stdout",
     "output_type": "stream",
     "text": [
      "['<s>', 'Bardzo', 'lubię', 'lody', 'mali', 'nowe', 'z', 'bi', 'tą', 'śmietan', 'ą', '.', '</s>']\n"
     ]
    }
   ],
   "source": [
    "tokenizer_encoder = AutoTokenizer.from_pretrained(model_name_encoder)\n",
    "model_encoder = AutoModel.from_pretrained(model_name_encoder).to(device)\n",
    "\n",
    "text = 'Bardzo lubię lody malinowe z bitą śmietaną.'\n",
    "\n",
    "token_ids = tokenizer_encoder(text, return_tensors='pt')['input_ids'][0]\n",
    "\n",
    "print ([tokenizer_encoder.decode(idx) for idx in token_ids])"
   ]
  },
  {
   "cell_type": "code",
   "execution_count": 4,
   "id": "51839607",
   "metadata": {},
   "outputs": [],
   "source": [
    "def representation(L):\n",
    "    txt = ' '.join(L)\n",
    "    input_ids = tokenizer_encoder(txt, return_tensors='pt')['input_ids'].to(device)\n",
    "    output = model_encoder(input_ids=input_ids)\n",
    "    return output.last_hidden_state.detach().cpu().numpy()[0,0,:]"
   ]
  },
  {
   "cell_type": "code",
   "execution_count": 5,
   "id": "0e128558",
   "metadata": {},
   "outputs": [
    {
     "data": {
      "text/plain": [
       "array([ 7.75123611e-02, -1.26742795e-01,  1.28273174e-01,  6.88974857e-02,\n",
       "        1.63994581e-02,  5.44659421e-02, -3.27508241e-01, -6.34695232e-01,\n",
       "        9.20319483e-02,  8.05968642e-01,  1.59045756e-01,  2.29028508e-01,\n",
       "        2.93846512e+00,  3.55168164e-01,  1.10074371e-01, -1.78765461e-01,\n",
       "        1.20000631e-01,  7.92294275e-03, -1.32740542e-01,  2.68556684e-01,\n",
       "        2.42710307e-01,  4.63390350e-02,  4.08300338e-03, -2.29847357e-01,\n",
       "        1.29359066e-01,  2.12778866e-01,  2.44441584e-01,  8.24062228e-02,\n",
       "        3.90837461e-01,  3.85150939e-01, -3.88434716e-02, -3.29763219e-02,\n",
       "        6.87328950e-02, -4.60863337e-02,  1.64549291e-01, -5.30537553e-02,\n",
       "       -2.92028993e-01, -7.47865140e-02, -3.22981179e-01,  2.10616335e-01,\n",
       "       -4.49958332e-02, -2.33092010e-01, -1.98450804e-01,  4.04942811e-01,\n",
       "        2.84321094e-03,  1.94603622e-01, -1.16448723e-01,  9.03226808e-02,\n",
       "       -9.03956145e-02, -6.43575750e-03,  5.03770299e-02, -2.66933143e-01,\n",
       "        1.24548480e-01, -1.36520839e+00,  4.58292335e-01,  3.15423054e-03,\n",
       "        7.26472661e-02, -1.24525251e-02, -2.69859493e-01,  5.48471689e-01,\n",
       "        8.75328109e-03,  2.84556866e-01,  5.01488149e-02,  2.98047066e-01,\n",
       "       -4.60688137e-02,  9.87322927e-02, -1.35391787e-01,  1.65898010e-01,\n",
       "        4.13224757e-01, -2.05760881e-01, -9.14396867e-02,  5.72645366e-02,\n",
       "        6.41721129e-01,  4.29226547e-01, -1.55269712e-01,  9.56615619e-03,\n",
       "        2.16962695e-01,  4.62728031e-02,  1.90690473e-01, -1.81585148e-01,\n",
       "        9.98849720e-02, -5.51427841e-01, -7.28296936e-02,  2.85006821e-01,\n",
       "        3.32229853e-01,  2.32251123e-01, -6.40042424e-02, -7.48853832e-02,\n",
       "       -1.05403081e-01,  1.83301926e-01,  9.98943672e-02, -1.04766406e-01,\n",
       "        6.53500795e-01,  3.70296657e-01,  2.77776808e-01,  2.03580279e-02,\n",
       "        5.52515835e-02,  2.21001878e-01,  2.18424320e-01, -1.76512584e-01,\n",
       "       -2.71548890e-02,  3.53196561e-01, -1.08202867e-01, -9.30112600e-01,\n",
       "       -5.64246655e-01,  1.57174483e-01, -2.47056812e-01,  1.64259654e-02,\n",
       "        2.11523309e-01, -1.75864726e-01,  1.30547971e-01,  6.19559735e-02,\n",
       "        1.76930845e-01,  5.26872091e-02, -5.49522161e-01,  2.80004352e-01,\n",
       "        1.37825578e-01, -3.36915106e-01, -1.35299027e-01, -3.82869095e-01,\n",
       "       -4.20969166e-02,  1.17186201e+00, -2.11124476e-02,  9.32706520e-02,\n",
       "        5.89870550e-02, -9.86062363e-02,  1.40003011e-01, -8.71392563e-02,\n",
       "       -1.98898949e-02, -1.02431190e+00,  3.68517369e-01, -5.19508839e-01,\n",
       "        2.04054207e-01,  3.72970611e-01,  5.04114572e-03,  7.67865926e-02,\n",
       "       -1.88516185e-01,  1.70982465e-01,  1.85975432e-01, -6.20122254e-01,\n",
       "        1.61931012e-02, -8.42935562e-01, -2.04230770e-02, -2.03080893e-01,\n",
       "        3.20294708e-01,  4.97118086e-01, -2.02459060e-02, -3.15113342e-03,\n",
       "        2.67663896e-01, -3.23184013e-01,  3.94027114e-01, -8.16429108e-02,\n",
       "       -2.19427037e+00,  1.48269400e-01,  1.52145147e-01, -2.17507049e-01,\n",
       "        1.97004288e-01,  5.91870733e-02,  4.67502624e-01, -1.97817475e-01,\n",
       "       -3.66455346e-01,  2.37820789e-01,  1.44354239e-01, -2.53595978e-01,\n",
       "        9.49669540e-01, -4.53864068e-01,  2.28082806e-01, -2.65328795e-01,\n",
       "       -2.48430129e-02,  2.27825493e-02, -5.44485934e-02, -9.44372937e-02,\n",
       "        3.22496891e-01,  3.08429934e-02,  5.90673350e-02,  3.50746602e-01,\n",
       "       -2.33030558e-01, -3.90469865e-03,  8.06547478e-02, -5.86037099e-01,\n",
       "       -2.31317058e-01, -5.16961478e-02, -6.27882004e-01,  9.88063440e-02,\n",
       "       -2.47705728e-01,  1.31610364e-01,  3.39667767e-01, -4.72235046e-02,\n",
       "        2.79101491e-01,  1.07975245e-01, -2.61162579e-01,  8.82439874e-03,\n",
       "        4.44489568e-01,  4.33971286e-02,  1.59744993e-02,  8.39095592e-01,\n",
       "       -3.00555855e-01,  8.87160152e-02,  7.71471560e-02, -1.48168299e-02,\n",
       "       -4.06384654e-02,  1.83884593e-04, -5.78006566e-01,  5.82114875e-01,\n",
       "        1.45347804e-01, -4.67116460e-02,  4.21057701e-01, -3.12703736e-02,\n",
       "        3.17686237e-02, -5.22602759e-02,  1.97588280e-01,  3.64997566e-01,\n",
       "       -1.33482009e-01, -1.25729024e-01, -1.79165587e-01, -3.36041301e-02,\n",
       "        3.31031621e-01, -4.72223699e-01,  3.80717725e-01,  8.40820372e-03,\n",
       "       -1.22803025e-01,  2.19025224e-01, -5.21910548e-01,  1.56169906e-01,\n",
       "        1.17381059e-01, -7.36399442e-02, -8.09373707e-02,  1.17172889e-01,\n",
       "       -3.84358227e-01,  8.77606750e-01, -4.07249302e-01, -3.57642233e-01,\n",
       "       -1.18492141e-01,  5.24179757e-01, -1.27312571e-01, -1.62988886e-01,\n",
       "        6.10358894e-01,  5.43671399e-02, -3.83881778e-01, -2.85766929e-01,\n",
       "        2.99556077e-01, -2.15340942e-01,  8.79956856e-02, -8.01019594e-02,\n",
       "       -7.36010149e-02,  5.68517409e-02,  2.63294667e-01, -1.00731850e-01,\n",
       "       -6.86268061e-02, -7.80112445e-02,  1.85178965e-02,  1.31341368e-01,\n",
       "       -1.12044007e-01, -3.35636176e-02,  3.81009489e-01,  9.10761431e-02,\n",
       "       -7.73543775e-01,  1.73102915e-01,  1.32369548e-01,  2.75708413e+00,\n",
       "       -2.01098293e-01,  2.57719606e-01,  1.96020439e-01, -3.98435384e-01,\n",
       "       -4.20846716e-02,  4.74424332e-01, -4.45124805e-01,  4.88840163e-01,\n",
       "       -4.92227189e-02,  5.16610928e-02, -8.42735022e-02, -4.55077440e-01,\n",
       "        2.27540329e-01,  5.12452185e-01,  1.49574116e-01, -6.89272285e-02,\n",
       "       -2.06903860e-01, -3.24289083e-01,  7.50448406e-02, -1.36358753e-01,\n",
       "       -4.05199856e-01, -8.85210708e-02,  1.18930161e-01,  7.06372485e-02,\n",
       "        7.86778629e-02,  1.62979096e-01, -2.20932081e-01, -1.21907219e-01,\n",
       "        3.23662877e-01,  3.13417077e-01, -2.05657452e-01,  1.16139662e+00,\n",
       "       -7.59496167e-02,  8.13630372e-02,  1.40175986e+00,  4.35511172e-02,\n",
       "       -1.89497098e-01, -2.89731145e-01,  9.51588601e-02, -2.82771140e-02,\n",
       "       -2.13271350e-01, -8.93800676e-01,  8.36330503e-02,  2.78001636e-01,\n",
       "        5.64612389e-01,  1.08557427e+00,  8.76061916e-01,  2.51681298e-01,\n",
       "       -5.56695342e-01,  2.82212254e-02,  5.45988619e-01, -4.66901287e-02,\n",
       "        5.29371165e-02,  7.08565474e-01, -1.41453877e-01,  4.07062292e-01,\n",
       "        6.10737264e-01,  2.67532289e-01,  2.56229997e-01, -1.48135439e-01,\n",
       "        4.70753133e-01, -9.37648788e-02, -1.53089851e-01,  2.76105434e-01,\n",
       "        1.73685610e-01, -7.87756145e-02,  6.58211038e-02, -3.47307976e-03,\n",
       "        3.69408667e-01, -9.72948670e-02, -2.04344675e-01,  3.56223822e-01,\n",
       "       -2.19524801e-02, -2.81366631e-02, -1.60108745e-01,  3.48409824e-02,\n",
       "        9.44222435e-02,  1.53166845e-01, -9.29970592e-02,  9.05672729e-01,\n",
       "        3.17805946e-01,  1.03636332e-01,  1.23473294e-01, -1.33604407e-01,\n",
       "        4.90221441e-01, -4.26277667e-01, -1.62980646e-01, -4.60391730e-01,\n",
       "        5.78949265e-02,  2.37837568e-01,  3.11682727e-02,  4.96149482e-03,\n",
       "       -1.80423781e-01,  1.53187951e-02,  3.05195630e-01, -1.77048743e-01,\n",
       "        1.11827068e-02, -6.35695040e-01, -1.36128077e-02,  7.27555081e-02,\n",
       "       -2.95686990e-01, -3.08857318e-02,  3.75144571e-01,  2.63040364e-01,\n",
       "        7.07103685e-02, -3.77330445e-02,  1.04288012e-01,  6.12860322e-01,\n",
       "        1.60611600e-01, -3.44069928e-01, -8.43451500e-01, -3.36072221e-03,\n",
       "        2.32496843e-01,  1.64627150e-01, -1.39271840e-01,  2.32934132e-01,\n",
       "        3.85031924e-02, -9.57643092e-02, -1.76331252e-01,  3.24405670e-01,\n",
       "       -1.18798435e-01, -4.07654420e-02,  2.06077889e-01, -6.77989125e-02,\n",
       "        1.88719571e-01, -2.10401163e-01,  1.22467071e-01,  1.61787122e-01,\n",
       "       -3.53893906e-01,  2.21847028e-01,  3.84422511e-01, -1.97042644e-01,\n",
       "        1.29316226e-01,  1.30525932e-01,  6.23215884e-02,  6.16644144e-01,\n",
       "        1.03871807e-01, -2.95520038e-03,  1.82387784e-01,  2.53941268e-01,\n",
       "        1.65333897e-01,  8.94341469e-02, -4.62881148e-01, -7.92902708e-03,\n",
       "        3.63411248e-01,  2.49399394e-02, -2.73713201e-01, -1.21340811e-01,\n",
       "        1.03240319e-01, -1.97994128e-01,  1.78164572e-01, -1.74852228e-03,\n",
       "       -3.12273979e-01, -4.15001959e-01,  2.30873421e-01, -5.94507065e-03,\n",
       "       -3.53472382e-02, -1.94121879e-02,  1.42474866e+00,  1.58876851e-01,\n",
       "        5.34959674e-01, -7.56203011e-02, -1.41276941e-01,  3.88804041e-02,\n",
       "       -1.38585225e-01, -6.98170215e-02, -1.51406959e-01, -9.16057676e-02,\n",
       "       -8.42161570e-03, -6.24301918e-02,  1.87503785e-01,  2.49657407e-02,\n",
       "        1.16898539e-02, -3.64765152e-02,  3.17177474e-01,  2.98480242e-01,\n",
       "        4.37851138e-02,  3.59607786e-01,  1.33477807e-01,  2.44366080e-01,\n",
       "        2.07329452e-01, -2.59513203e-02, -1.52803317e-01,  2.20048994e-01,\n",
       "        1.41293630e-01,  6.47701621e-02, -7.00847745e-01, -1.10050745e-03,\n",
       "       -1.68324828e-01,  1.71801940e-01,  2.13370904e-01, -1.43856004e-01,\n",
       "       -3.16974893e-03, -1.23049639e-01,  1.63356096e-01, -5.25576711e-01,\n",
       "       -2.60858119e-01, -6.38253195e-03,  1.23295575e-01,  1.86014223e+00,\n",
       "        4.28359240e-01,  4.09762919e-01,  2.69543946e-01, -1.45400792e-01,\n",
       "       -6.68098092e-01, -2.82327622e-01, -1.19545879e-02, -1.35381877e-01,\n",
       "        2.96272069e-01,  1.41527861e-01,  1.40819430e-01,  1.11899778e-01,\n",
       "       -3.27068657e-01,  4.86006774e-02, -1.47711158e-01,  2.87714954e-02,\n",
       "       -2.75324970e-01, -1.68977737e-01,  1.00691848e-01,  2.46013656e-01,\n",
       "        3.10213447e-01,  3.04156214e-01,  1.50509179e-01,  6.06479123e-02,\n",
       "       -2.35832274e-01, -7.23574124e-03,  3.65831226e-01,  7.18950927e-01,\n",
       "       -4.43057716e-01,  4.44342136e-01,  1.64950356e-01,  1.91806003e-01,\n",
       "       -2.44097933e-01,  3.58278006e-02,  1.07238300e-01,  6.02236092e-01,\n",
       "       -4.04842645e-02, -8.54014516e-01,  5.78523390e-02,  6.22194000e-02,\n",
       "        5.79655349e-01,  1.40870631e-01,  3.39941174e-01, -9.43028480e-02,\n",
       "        7.49854930e-03,  8.86223912e-02,  6.00687228e-02, -8.15167964e-01,\n",
       "        4.68148232e-01,  4.14041895e-03,  8.05256248e-01, -8.21447894e-02,\n",
       "       -6.38440028e-02,  1.29284799e-01,  4.55977201e-01, -3.70605178e-02,\n",
       "        7.41335005e-03,  1.76041082e-01,  5.33756055e-02, -2.46809185e-01,\n",
       "        1.43799686e+00, -9.37424898e-02,  3.09397668e-01,  2.00388461e-01,\n",
       "       -6.62666261e-02, -1.67741463e-01, -2.56523071e-03,  2.05250587e-02,\n",
       "        1.93890467e-01,  8.41727853e-01,  1.92059174e-01, -1.66637212e-01,\n",
       "       -3.04415133e-02, -1.34765947e+00,  9.80035603e-01,  7.23717093e-01,\n",
       "        2.12281555e-01,  6.69939592e-02,  1.37426555e-01,  1.19518802e-01,\n",
       "       -4.83151972e-01, -1.06199056e-01,  1.65779084e-01,  8.33912343e-02,\n",
       "        2.39339024e-02,  1.33101881e-01,  4.84212935e-01, -1.35240346e-01,\n",
       "        9.66933593e-02,  9.65108350e-02, -2.69413382e-01, -8.61596614e-02,\n",
       "       -1.07961737e-01, -1.71029091e-01, -4.86484885e-01, -2.24947572e-01,\n",
       "       -7.17298239e-02, -1.77601799e-01,  2.82489657e-02,  9.28353220e-02,\n",
       "       -3.23452979e-01,  1.21557236e-01, -9.01414752e-02, -8.86717588e-02,\n",
       "       -1.30871207e-01, -2.86520153e-01, -9.90442857e-02,  1.34823978e-01,\n",
       "       -4.41259285e-03, -3.25187057e-01, -2.04597190e-02, -2.12281585e-01,\n",
       "        1.49368048e-01, -1.17994864e-02,  4.41364557e-01,  5.25747463e-02,\n",
       "       -7.51046762e-02,  2.12558702e-01, -2.29035556e-01, -9.12451744e-01,\n",
       "       -7.86755681e-01, -2.74976134e-01, -2.33717233e-01, -2.96724916e-01,\n",
       "        1.69867337e-01,  7.47732073e-02, -9.66730341e-02,  2.18970135e-01,\n",
       "       -1.89107494e+01,  1.03668451e+00, -3.72379184e-01,  1.36004016e-01,\n",
       "        1.70766443e-01,  4.29164581e-02,  1.43777236e-01, -1.20879613e-01,\n",
       "        4.36680578e-02,  4.05700564e-01, -1.97760835e-01, -4.26783293e-01,\n",
       "        3.05018842e-01, -3.84745421e-04,  2.99150199e-01, -1.12704143e-01,\n",
       "        1.32902667e-01,  1.30579889e-01,  8.81725252e-02,  4.43802513e-02,\n",
       "        1.75317124e-01,  3.42920244e-01,  3.61226022e-01,  2.69089282e-01,\n",
       "       -4.19625193e-01, -3.06332022e-01,  5.89095242e-02,  2.08040513e-02,\n",
       "       -6.16934635e-02, -4.27792454e-03,  1.75936073e-01,  2.22570598e-01,\n",
       "       -3.57841626e-02, -1.90754518e-01, -7.23150298e-02, -6.70570433e-02,\n",
       "        1.81112111e-01, -4.03441012e-01, -1.24663681e-01,  3.57700139e-01,\n",
       "       -1.65776730e-01,  1.43296152e-01,  1.02323937e+00, -6.54489151e-04,\n",
       "       -2.31328651e-01,  4.98351008e-01, -1.06892064e-01,  1.45807415e-01,\n",
       "        1.47324298e-02,  7.12592006e-02,  1.87329486e-01,  1.17862530e-01,\n",
       "       -1.67640984e-01,  1.28702819e-01, -1.94461435e-01, -3.83003294e-01,\n",
       "        1.37903452e-01,  1.13329208e-02, -3.80136818e-01,  3.58091202e-03,\n",
       "        1.67538628e-01, -1.08591124e-01, -8.43325108e-02,  1.69721931e-01,\n",
       "        3.42235267e-02, -1.72897562e-01,  4.51033115e-01,  9.43722725e-02,\n",
       "        1.67717710e-01,  1.39658019e-01, -2.39934046e-02, -1.33904412e-01,\n",
       "        1.55799627e-01,  1.82945156e+00,  1.81442618e-01,  4.92033392e-01,\n",
       "        9.00181979e-02,  1.75898671e-02, -7.99333453e-01,  5.04026115e-01,\n",
       "       -1.65342510e-01,  5.64857483e-01,  1.95956454e-01, -1.26748845e-01,\n",
       "        2.54776061e-01,  7.16959059e-01,  4.36956063e-02,  1.19111992e-01,\n",
       "        1.56049564e-01,  3.69202763e-01, -3.11386049e-01,  5.39097250e-01,\n",
       "       -2.60361165e-01,  1.26711786e-01,  5.56584001e-02, -2.51990906e-03,\n",
       "       -2.02214435e-01, -3.32409769e-01,  2.27890294e-02, -6.07068799e-02,\n",
       "        7.24062681e-01,  2.92484343e-01,  1.36577770e-01, -1.94469735e-01,\n",
       "       -1.56426418e-03, -3.22149485e-01,  7.52373561e-02,  2.28942052e-01,\n",
       "        3.39714959e-02, -1.20380208e-01,  4.39625829e-02,  5.65206230e-01,\n",
       "       -3.21003735e-01, -7.24762827e-02,  1.54527113e-01,  3.34448546e-01,\n",
       "       -1.59963884e-03,  1.12762488e-01,  2.39440754e-01, -8.25345814e-02,\n",
       "        5.16026542e-02,  2.30785504e-01, -1.26925722e-01, -3.64617184e-02,\n",
       "       -2.55204469e-01, -1.16035931e-01,  1.33062199e-01,  4.43849504e-01,\n",
       "       -5.75926527e-02,  2.82740384e-01, -4.59570512e-02,  2.55407035e-01,\n",
       "       -2.13494256e-01,  9.06530470e-02,  6.55971408e-01, -9.24358740e-02,\n",
       "        6.42069504e-02,  1.98524997e-01,  1.93231136e-01,  9.59518850e-02,\n",
       "        2.71093875e-01, -9.92738008e-02,  2.40090027e-01, -2.03740463e-01,\n",
       "       -8.30818117e-02,  1.55698344e-01, -2.82176822e-01, -9.08252075e-02,\n",
       "        7.61765361e-01, -6.51056543e-02,  8.63253251e-02, -8.94081950e-01,\n",
       "       -9.30298120e-02,  9.00940061e-01,  3.66545200e-01,  3.15225989e-01,\n",
       "       -2.04216167e-02,  7.37213641e-02, -1.94843754e-01,  1.58478707e-01,\n",
       "        3.12837869e-01,  6.90943241e-01,  1.06212320e-02, -5.12742661e-02,\n",
       "       -1.05328061e-01, -1.66072860e-01, -9.09383968e-02, -2.05531210e-01,\n",
       "       -2.59148657e-01,  1.95350304e-01,  2.14482754e-01, -4.34068322e-01,\n",
       "       -1.79617316e-01,  1.52297869e-01,  1.87923089e-01, -1.33112490e-01,\n",
       "        1.57864675e-01, -2.27505103e-01,  9.71435905e-02, -4.04563785e-01],\n",
       "      dtype=float32)"
      ]
     },
     "execution_count": 5,
     "metadata": {},
     "output_type": "execute_result"
    }
   ],
   "source": [
    "representation(['Ala', 'ma', 'kota'])"
   ]
  },
  {
   "cell_type": "code",
   "execution_count": null,
   "id": "caa3ddba",
   "metadata": {},
   "outputs": [],
   "source": [
    "def spoil_maualy(L):\n",
    "    replacements = {'ł': 'l', 'ą': 'a', 'ć': 'c', 'ę': 'e', 'ń': 'n', 'ó': 'o', 'ś': 's', 'ź': 'z', 'ż': 'z'}\n",
    "    res = []\n",
    "    for w in L:\n",
    "        temp = random.random()\n",
    "        if temp < 0.25:\n",
    "            res.append(w.upper())\n",
    "        elif temp < 0.50:\n",
    "            letter_iondex = random.randrange(0, len(w))\n",
    "            new_letter = random.choice('abcdefghijklmnopqrstuvwxyz')\n",
    "            w = w[:letter_iondex] + new_letter + w[letter_iondex+1:]\n",
    "            res.append(w)\n",
    "        elif temp < 0.75:\n",
    "            w = ''.join(replacements.get(c, c) for c in w)\n",
    "            res.append(w)\n",
    "        else:\n",
    "            res.append(w)\n",
    "    return res"
   ]
  },
  {
   "cell_type": "code",
   "execution_count": 43,
   "id": "821ac3dd",
   "metadata": {},
   "outputs": [
    {
     "data": {
      "text/plain": [
       "['ALA', 'oa', 'kota']"
      ]
     },
     "execution_count": 43,
     "metadata": {},
     "output_type": "execute_result"
    }
   ],
   "source": [
    "spoil_maualy(['Ala', 'ma', 'kota'])"
   ]
  },
  {
   "cell_type": "code",
   "execution_count": 23,
   "id": "20e5619a",
   "metadata": {},
   "outputs": [],
   "source": [
    "model_decoder_name = 'eryk-mazus/polka-1.1b'\n",
    "tokenizer_decoder = AutoTokenizer.from_pretrained(model_decoder_name)\n",
    "model_decoder = AutoModelForCausalLM.from_pretrained(model_decoder_name).to(device)"
   ]
  },
  {
   "cell_type": "code",
   "execution_count": null,
   "id": "4ef23d51",
   "metadata": {},
   "outputs": [],
   "source": [
    "def spoil_with_decode(L):\n",
    "    prompt = f\"\"\"Zamień podaną opinię na nową, używając innych słów niż w oryginalnej opinii oraz zachowując przy tym wydźwięk i sens. Podkreśl wydźwięk oryginalnej opinii w zmienionej opinii. Niech opinia będzie krótkie.\n",
    "\n",
    "Opinia: Bardzo lubię lody malinowe z bitą śmietaną.\n",
    "Zamieniona opinia: Uwielbiam jeść lody malinowe z pyszną bitą śmietaną.\n",
    "\n",
    "Opinia: {' '.join(L)}\n",
    "Zamieniona opinia: \"\"\"\n",
    "    input_ids = tokenizer_decoder(prompt, return_tensors='pt')['input_ids'].to(device)\n",
    "    output = model_decoder.generate(input_ids, max_length=300, num_return_sequences=1, do_sample=True)\n",
    "    output_text = tokenizer_decoder.decode(output[0], skip_special_tokens=True)\n",
    "    return output_text.replace(prompt, '')"
   ]
  },
  {
   "cell_type": "code",
   "execution_count": 124,
   "id": "7bb8080c",
   "metadata": {},
   "outputs": [
    {
     "data": {
      "text/plain": [
       "'ładne desery są smaczne.'"
      ]
     },
     "execution_count": 124,
     "metadata": {},
     "output_type": "execute_result"
    }
   ],
   "source": [
    "spoil_with_decode('Te ciasteczka z posypką są naprawdę dobre.'.split())"
   ]
  },
  {
   "cell_type": "code",
   "execution_count": 6,
   "id": "dd86d3f5",
   "metadata": {},
   "outputs": [],
   "source": [
    "def create_train_test(spoil_function, K=3):\n",
    "    lines = open('../p1/reviews_for_task3.txt').readlines()\n",
    "    random.shuffle(lines)\n",
    "\n",
    "    N = len(lines)\n",
    "    test_size = N // 4\n",
    "    train_size = N - test_size\n",
    "\n",
    "    train_lines = lines[:train_size]\n",
    "    test_lines = lines[train_size:]\n",
    "\n",
    "    X_train = []\n",
    "    y_train = []\n",
    "    X_test = []\n",
    "    y_test = []\n",
    "\n",
    "    for line in tqdm(train_lines):\n",
    "        L = line.split()\n",
    "        y = 0 if L[0] == 'BAD' else 1\n",
    "        x = representation(L[1:])\n",
    "\n",
    "        y_train.append(y)\n",
    "        X_train.append(x)\n",
    "        \n",
    "        for i in range(K):\n",
    "            x = representation(spoil_function(L[1:]))\n",
    "            y_train.append(y)\n",
    "            X_train.append(x)\n",
    "        \n",
    "        # if len(X_train) % 100 == 0:\n",
    "        #     print (len(X_train))\n",
    "\n",
    "    for line in tqdm(test_lines):\n",
    "        L = line.split()\n",
    "        y = 0 if L[0] == 'BAD' else 1\n",
    "        \n",
    "        x = representation(L[1:])\n",
    "        y_test.append(y)\n",
    "        X_test.append(x)\n",
    "            \n",
    "        # if len(X_test) % 100 == 0:\n",
    "        #     print (len(X_test))\n",
    "    return X_train, y_train, X_test, y_test"
   ]
  },
  {
   "cell_type": "code",
   "execution_count": 7,
   "id": "1a5af9e8",
   "metadata": {},
   "outputs": [],
   "source": [
    "N = len(open('../p1/reviews_for_task3.txt').readlines())\n",
    "test_size = N // 4\n",
    "train_size = N - test_size"
   ]
  },
  {
   "cell_type": "markdown",
   "id": "b9944427",
   "metadata": {},
   "source": [
    "without spoiling"
   ]
  },
  {
   "cell_type": "code",
   "execution_count": 8,
   "id": "83af4fd2",
   "metadata": {},
   "outputs": [
    {
     "name": "stderr",
     "output_type": "stream",
     "text": [
      "100%|██████████| 300/300 [00:04<00:00, 74.00it/s]\n",
      "100%|██████████| 100/100 [00:01<00:00, 74.80it/s]\n"
     ]
    }
   ],
   "source": [
    "X_train, y_train, X_test, y_test = create_train_test(None, K=0)"
   ]
  },
  {
   "cell_type": "code",
   "execution_count": 9,
   "id": "2810dc24",
   "metadata": {},
   "outputs": [
    {
     "name": "stdout",
     "output_type": "stream",
     "text": [
      "Train accuracy: 1.0\n",
      "Test accuracy: 0.75\n"
     ]
    }
   ],
   "source": [
    "clf = LogisticRegression(random_state=0, max_iter=1000).fit(X_train, y_train)\n",
    "\n",
    "print ('Train accuracy:', clf.score(X_train, y_train))\n",
    "print ('Test accuracy:', clf.score(X_test, y_test))"
   ]
  },
  {
   "cell_type": "markdown",
   "id": "ba9513e9",
   "metadata": {},
   "source": [
    "manual"
   ]
  },
  {
   "cell_type": "code",
   "execution_count": null,
   "id": "3913402f",
   "metadata": {},
   "outputs": [
    {
     "name": "stderr",
     "output_type": "stream",
     "text": [
      "100%|██████████| 300/300 [00:15<00:00, 18.84it/s]\n",
      "100%|██████████| 100/100 [00:01<00:00, 76.43it/s]\n"
     ]
    }
   ],
   "source": [
    "X_train, y_train, X_test, y_test = create_train_test(spoil_maualy, K=3)"
   ]
  },
  {
   "cell_type": "code",
   "execution_count": null,
   "id": "803d8d98",
   "metadata": {},
   "outputs": [
    {
     "name": "stdout",
     "output_type": "stream",
     "text": [
      "Train accuracy: 0.9725\n",
      "Test accuracy: 0.83\n"
     ]
    }
   ],
   "source": [
    "clf = LogisticRegression(random_state=0, max_iter=1000).fit(X_train, y_train)\n",
    "\n",
    "print ('Train accuracy:', clf.score(X_train, y_train))\n",
    "print ('Test accuracy:', clf.score(X_test, y_test))"
   ]
  },
  {
   "cell_type": "markdown",
   "id": "bd5af0f2",
   "metadata": {},
   "source": [
    "decoder"
   ]
  },
  {
   "cell_type": "code",
   "execution_count": 125,
   "id": "67df32b4",
   "metadata": {},
   "outputs": [
    {
     "name": "stderr",
     "output_type": "stream",
     "text": [
      "100%|██████████| 300/300 [26:17<00:00,  5.26s/it]\n",
      "100%|██████████| 100/100 [00:01<00:00, 71.49it/s]\n"
     ]
    }
   ],
   "source": [
    "\n",
    "X_train, y_train, X_test, y_test = create_train_test(spoil_with_decode, K=3)"
   ]
  },
  {
   "cell_type": "code",
   "execution_count": 127,
   "id": "45cb79b1",
   "metadata": {},
   "outputs": [
    {
     "name": "stdout",
     "output_type": "stream",
     "text": [
      "Train accuracy: 0.85\n",
      "Test accuracy: 0.76\n"
     ]
    }
   ],
   "source": [
    "clf = LogisticRegression(random_state=0, max_iter=1000).fit(X_train, y_train)\n",
    "\n",
    "print ('Train accuracy:', clf.score(X_train, y_train))\n",
    "print ('Test accuracy:', clf.score(X_test, y_test))"
   ]
  },
  {
   "cell_type": "markdown",
   "id": "6299e51d",
   "metadata": {},
   "source": [
    "word2vec"
   ]
  },
  {
   "cell_type": "code",
   "execution_count": null,
   "id": "741a7929",
   "metadata": {},
   "outputs": [],
   "source": []
  }
 ],
 "metadata": {
  "kernelspec": {
   "display_name": "myenv",
   "language": "python",
   "name": "python3"
  },
  "language_info": {
   "codemirror_mode": {
    "name": "ipython",
    "version": 3
   },
   "file_extension": ".py",
   "mimetype": "text/x-python",
   "name": "python",
   "nbconvert_exporter": "python",
   "pygments_lexer": "ipython3",
   "version": "3.12.3"
  }
 },
 "nbformat": 4,
 "nbformat_minor": 5
}
